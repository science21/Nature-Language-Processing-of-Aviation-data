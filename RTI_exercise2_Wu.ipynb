{
 "cells": [
  {
   "cell_type": "markdown",
   "metadata": {},
   "source": [
    "                                     Data Science Exercise 2"
   ]
  },
  {
   "cell_type": "markdown",
   "metadata": {},
   "source": [
    "\n",
    "1. Read xml and json data"
   ]
  },
  {
   "cell_type": "markdown",
   "metadata": {},
   "source": [
    "1.1 Set base path\n",
    "In local computer, create a folder, set this folder as the current working directory, copy data folder (145 data files) \n",
    "Python code in this folder."
   ]
  },
  {
   "cell_type": "code",
   "execution_count": 1,
   "metadata": {},
   "outputs": [],
   "source": [
    "import os\n",
    "base_path=os.getcwd()\n",
    "os.chdir(base_path)"
   ]
  },
  {
   "cell_type": "markdown",
   "metadata": {},
   "source": [
    "1.2 Read xml data"
   ]
  },
  {
   "cell_type": "code",
   "execution_count": 2,
   "metadata": {},
   "outputs": [],
   "source": [
    "import pandas as pd\n",
    "import xml.etree.ElementTree as ET"
   ]
  },
  {
   "cell_type": "code",
   "execution_count": 3,
   "metadata": {},
   "outputs": [],
   "source": [
    "tree = ET.parse(base_path+\"/data/AviationData.xml\")  #Read xml data\n",
    "root = tree.getroot()                                # get root\n",
    "\n",
    "# There are over 20 varaibles, here only ten were selected, which might be most important\n",
    "columns = [\"EventId\",  \"EventDate\", \"Location\", \"InjurySeverity\",\"AircraftDamage\", \"PurposeOfFlight\", \"TotalFatalInjuries\",\n",
    "           \"TotalSeriousInjuries\",  \"WeatherCondition\", \"BroadPhaseOfFlight\"]\n",
    "\n",
    "# Create an empty dataframe to store the data\n",
    "df_xml = pd.DataFrame(columns = columns)\n",
    "\n",
    "# Read node using for--loop. This will take a while\n",
    "for node in root[0]: \n",
    "# extract data for each variable\n",
    "    EventId = node.attrib.get(\"EventId\")\n",
    "    EventDate = node.attrib.get(\"EventDate\")\n",
    "    Location = node.attrib.get(\"Location\")\n",
    "    InjurySeverity = node.attrib.get(\"InjurySeverity\")\n",
    "    AircraftDamage = node.attrib.get(\"AircraftDamage\")\n",
    "    \n",
    "    PurposeOfFlight = node.attrib.get(\"PurposeOfFlight\")\n",
    "    TotalFatalInjuries = node.attrib.get(\"TotalFatalInjuries\")\n",
    "    TotalSeriousInjuries = node.attrib.get(\"TotalSeriousInjuries\")\n",
    "    WeatherCondition = node.attrib.get(\"WeatherCondition\")\n",
    "    BroadPhaseOfFlight = node.attrib.get(\"BroadPhaseOfFlight\")\n",
    "\n",
    "    df_xml = df_xml.append(pd.Series([EventId, EventDate, Location, InjurySeverity,AircraftDamage, PurposeOfFlight,      \n",
    "    TotalFatalInjuries,TotalSeriousInjuries,  WeatherCondition, BroadPhaseOfFlight], index = columns), ignore_index = True)\n",
    "    \n",
    "df_xml=df_xml.drop_duplicates('EventId')            # Remove duplicate records\n",
    "df_xml['Date']=pd.to_datetime(df_xml['EventDate'])  # Change Date from string type to datetime format\n",
    "df_xml['Year']=df_xml['Date'].dt.year               # Extract year from the date variable\n",
    "df_xml['Month']=df_xml['Date'].dt.month             # Extract month from the date variable\n",
    "df_xml['Day']=df_xml['Date'].dt.day                 # Extract day from the date variable\n",
    "\n",
    "df_xml.to_pickle(\"df_xml\")                          # Save xml dataframe as a pickle file"
   ]
  },
  {
   "cell_type": "code",
   "execution_count": 4,
   "metadata": {},
   "outputs": [
    {
     "data": {
      "text/html": [
       "<div>\n",
       "<style scoped>\n",
       "    .dataframe tbody tr th:only-of-type {\n",
       "        vertical-align: middle;\n",
       "    }\n",
       "\n",
       "    .dataframe tbody tr th {\n",
       "        vertical-align: top;\n",
       "    }\n",
       "\n",
       "    .dataframe thead th {\n",
       "        text-align: right;\n",
       "    }\n",
       "</style>\n",
       "<table border=\"1\" class=\"dataframe\">\n",
       "  <thead>\n",
       "    <tr style=\"text-align: right;\">\n",
       "      <th></th>\n",
       "      <th>EventId</th>\n",
       "      <th>EventDate</th>\n",
       "      <th>Location</th>\n",
       "      <th>InjurySeverity</th>\n",
       "      <th>AircraftDamage</th>\n",
       "      <th>PurposeOfFlight</th>\n",
       "      <th>TotalFatalInjuries</th>\n",
       "      <th>TotalSeriousInjuries</th>\n",
       "      <th>WeatherCondition</th>\n",
       "      <th>BroadPhaseOfFlight</th>\n",
       "      <th>Date</th>\n",
       "      <th>Year</th>\n",
       "      <th>Month</th>\n",
       "      <th>Day</th>\n",
       "    </tr>\n",
       "  </thead>\n",
       "  <tbody>\n",
       "    <tr>\n",
       "      <td>0</td>\n",
       "      <td>20150901X74304</td>\n",
       "      <td>09/01/2015</td>\n",
       "      <td>Truckee, CA</td>\n",
       "      <td></td>\n",
       "      <td></td>\n",
       "      <td></td>\n",
       "      <td></td>\n",
       "      <td></td>\n",
       "      <td></td>\n",
       "      <td></td>\n",
       "      <td>2015-09-01</td>\n",
       "      <td>2015.0</td>\n",
       "      <td>9.0</td>\n",
       "      <td>1.0</td>\n",
       "    </tr>\n",
       "    <tr>\n",
       "      <td>1</td>\n",
       "      <td>20150901X92332</td>\n",
       "      <td>08/31/2015</td>\n",
       "      <td>Houston, TX</td>\n",
       "      <td>Non-Fatal</td>\n",
       "      <td>Substantial</td>\n",
       "      <td>Instructional</td>\n",
       "      <td></td>\n",
       "      <td></td>\n",
       "      <td>VMC</td>\n",
       "      <td>LANDING</td>\n",
       "      <td>2015-08-31</td>\n",
       "      <td>2015.0</td>\n",
       "      <td>8.0</td>\n",
       "      <td>31.0</td>\n",
       "    </tr>\n",
       "    <tr>\n",
       "      <td>2</td>\n",
       "      <td>20150902X61853</td>\n",
       "      <td>08/30/2015</td>\n",
       "      <td>New Milford, CT</td>\n",
       "      <td></td>\n",
       "      <td></td>\n",
       "      <td></td>\n",
       "      <td></td>\n",
       "      <td></td>\n",
       "      <td></td>\n",
       "      <td></td>\n",
       "      <td>2015-08-30</td>\n",
       "      <td>2015.0</td>\n",
       "      <td>8.0</td>\n",
       "      <td>30.0</td>\n",
       "    </tr>\n",
       "    <tr>\n",
       "      <td>3</td>\n",
       "      <td>20150901X02521</td>\n",
       "      <td>08/30/2015</td>\n",
       "      <td>New Enterprise, PA</td>\n",
       "      <td></td>\n",
       "      <td></td>\n",
       "      <td></td>\n",
       "      <td></td>\n",
       "      <td></td>\n",
       "      <td></td>\n",
       "      <td></td>\n",
       "      <td>2015-08-30</td>\n",
       "      <td>2015.0</td>\n",
       "      <td>8.0</td>\n",
       "      <td>30.0</td>\n",
       "    </tr>\n",
       "    <tr>\n",
       "      <td>4</td>\n",
       "      <td>20150831X61356</td>\n",
       "      <td>08/29/2015</td>\n",
       "      <td>MIDLOTHIAN, TX</td>\n",
       "      <td></td>\n",
       "      <td></td>\n",
       "      <td></td>\n",
       "      <td></td>\n",
       "      <td></td>\n",
       "      <td></td>\n",
       "      <td></td>\n",
       "      <td>2015-08-29</td>\n",
       "      <td>2015.0</td>\n",
       "      <td>8.0</td>\n",
       "      <td>29.0</td>\n",
       "    </tr>\n",
       "  </tbody>\n",
       "</table>\n",
       "</div>"
      ],
      "text/plain": [
       "          EventId   EventDate            Location InjurySeverity  \\\n",
       "0  20150901X74304  09/01/2015         Truckee, CA                  \n",
       "1  20150901X92332  08/31/2015         Houston, TX      Non-Fatal   \n",
       "2  20150902X61853  08/30/2015     New Milford, CT                  \n",
       "3  20150901X02521  08/30/2015  New Enterprise, PA                  \n",
       "4  20150831X61356  08/29/2015      MIDLOTHIAN, TX                  \n",
       "\n",
       "  AircraftDamage PurposeOfFlight TotalFatalInjuries TotalSeriousInjuries  \\\n",
       "0                                                                          \n",
       "1    Substantial   Instructional                                           \n",
       "2                                                                          \n",
       "3                                                                          \n",
       "4                                                                          \n",
       "\n",
       "  WeatherCondition BroadPhaseOfFlight       Date    Year  Month   Day  \n",
       "0                                     2015-09-01  2015.0    9.0   1.0  \n",
       "1              VMC            LANDING 2015-08-31  2015.0    8.0  31.0  \n",
       "2                                     2015-08-30  2015.0    8.0  30.0  \n",
       "3                                     2015-08-30  2015.0    8.0  30.0  \n",
       "4                                     2015-08-29  2015.0    8.0  29.0  "
      ]
     },
     "execution_count": 4,
     "metadata": {},
     "output_type": "execute_result"
    }
   ],
   "source": [
    "df_xml.head(5)                                      # show first five rows of the xml dataframe"
   ]
  },
  {
   "cell_type": "markdown",
   "metadata": {},
   "source": [
    "1.3 Read json data (144 files)"
   ]
  },
  {
   "cell_type": "code",
   "execution_count": 5,
   "metadata": {},
   "outputs": [],
   "source": [
    "files = os.listdir(base_path+\"/data/\")              # Get all file names in data folder\n",
    "file_json=[x for x in files if 'json' in x]         # Create a list of json file names\n"
   ]
  },
  {
   "cell_type": "code",
   "execution_count": 6,
   "metadata": {},
   "outputs": [],
   "source": [
    "columns_json = [\"EventId\",  \"narrative\", \"probable_cause\"]\n",
    "\n",
    "df_json=pd.DataFrame(columns = columns_json)        # Create an empty dataframe to store json data\n",
    "for i in list(range(len(file_json))):               # Create a for-loop to read each json file\n",
    "    df1= pd.read_json(base_path+\"/data/\"+file_json[i])\n",
    "    data =list(df1['data'])\n",
    "    EventId= [item['EventId'] for item in data]\n",
    "    Procause= [item['probable_cause'] for item in data]\n",
    "    Narrative= [item['narrative'] for item in data]\n",
    "    df2=pd.DataFrame({'EventId': EventId, 'narrative':Narrative, 'probable_cause':Procause})\n",
    "    df_json=pd.concat([df_json,df2])\n",
    "\n",
    "df_json=df_json.drop_duplicates('EventId')          # Remove duplicate records\n",
    "df_json.to_pickle(\"df_json\")                        # Save xml dataframe as a pickle file\n",
    "\n",
    "df_xml_json=pd.merge(df_xml, df_json, how='inner', on='EventId')  # Merge xml dataframe and json dataframe\n",
    "\n",
    "df_xml_json.to_pickle(\"df_xml_json\")                #  Save merged dataframe as a pickle file     "
   ]
  },
  {
   "cell_type": "code",
   "execution_count": 7,
   "metadata": {},
   "outputs": [
    {
     "data": {
      "text/html": [
       "<div>\n",
       "<style scoped>\n",
       "    .dataframe tbody tr th:only-of-type {\n",
       "        vertical-align: middle;\n",
       "    }\n",
       "\n",
       "    .dataframe tbody tr th {\n",
       "        vertical-align: top;\n",
       "    }\n",
       "\n",
       "    .dataframe thead th {\n",
       "        text-align: right;\n",
       "    }\n",
       "</style>\n",
       "<table border=\"1\" class=\"dataframe\">\n",
       "  <thead>\n",
       "    <tr style=\"text-align: right;\">\n",
       "      <th></th>\n",
       "      <th>EventId</th>\n",
       "      <th>EventDate</th>\n",
       "      <th>Location</th>\n",
       "      <th>InjurySeverity</th>\n",
       "      <th>AircraftDamage</th>\n",
       "      <th>PurposeOfFlight</th>\n",
       "      <th>TotalFatalInjuries</th>\n",
       "      <th>TotalSeriousInjuries</th>\n",
       "      <th>WeatherCondition</th>\n",
       "      <th>BroadPhaseOfFlight</th>\n",
       "      <th>Date</th>\n",
       "      <th>Year</th>\n",
       "      <th>Month</th>\n",
       "      <th>Day</th>\n",
       "      <th>narrative</th>\n",
       "      <th>probable_cause</th>\n",
       "    </tr>\n",
       "  </thead>\n",
       "  <tbody>\n",
       "    <tr>\n",
       "      <td>0</td>\n",
       "      <td>20150901X74304</td>\n",
       "      <td>09/01/2015</td>\n",
       "      <td>Truckee, CA</td>\n",
       "      <td></td>\n",
       "      <td></td>\n",
       "      <td></td>\n",
       "      <td></td>\n",
       "      <td></td>\n",
       "      <td></td>\n",
       "      <td></td>\n",
       "      <td>2015-09-01</td>\n",
       "      <td>2015.0</td>\n",
       "      <td>9.0</td>\n",
       "      <td>1.0</td>\n",
       "      <td></td>\n",
       "      <td></td>\n",
       "    </tr>\n",
       "    <tr>\n",
       "      <td>1</td>\n",
       "      <td>20150901X92332</td>\n",
       "      <td>08/31/2015</td>\n",
       "      <td>Houston, TX</td>\n",
       "      <td>Non-Fatal</td>\n",
       "      <td>Substantial</td>\n",
       "      <td>Instructional</td>\n",
       "      <td></td>\n",
       "      <td></td>\n",
       "      <td>VMC</td>\n",
       "      <td>LANDING</td>\n",
       "      <td>2015-08-31</td>\n",
       "      <td>2015.0</td>\n",
       "      <td>8.0</td>\n",
       "      <td>31.0</td>\n",
       "      <td>On August 31, 2015, about 1230 central dayligh...</td>\n",
       "      <td></td>\n",
       "    </tr>\n",
       "    <tr>\n",
       "      <td>2</td>\n",
       "      <td>20150902X61853</td>\n",
       "      <td>08/30/2015</td>\n",
       "      <td>New Milford, CT</td>\n",
       "      <td></td>\n",
       "      <td></td>\n",
       "      <td></td>\n",
       "      <td></td>\n",
       "      <td></td>\n",
       "      <td></td>\n",
       "      <td></td>\n",
       "      <td>2015-08-30</td>\n",
       "      <td>2015.0</td>\n",
       "      <td>8.0</td>\n",
       "      <td>30.0</td>\n",
       "      <td></td>\n",
       "      <td></td>\n",
       "    </tr>\n",
       "    <tr>\n",
       "      <td>3</td>\n",
       "      <td>20150901X02521</td>\n",
       "      <td>08/30/2015</td>\n",
       "      <td>New Enterprise, PA</td>\n",
       "      <td></td>\n",
       "      <td></td>\n",
       "      <td></td>\n",
       "      <td></td>\n",
       "      <td></td>\n",
       "      <td></td>\n",
       "      <td></td>\n",
       "      <td>2015-08-30</td>\n",
       "      <td>2015.0</td>\n",
       "      <td>8.0</td>\n",
       "      <td>30.0</td>\n",
       "      <td></td>\n",
       "      <td></td>\n",
       "    </tr>\n",
       "    <tr>\n",
       "      <td>4</td>\n",
       "      <td>20150831X61356</td>\n",
       "      <td>08/29/2015</td>\n",
       "      <td>MIDLOTHIAN, TX</td>\n",
       "      <td></td>\n",
       "      <td></td>\n",
       "      <td></td>\n",
       "      <td></td>\n",
       "      <td></td>\n",
       "      <td></td>\n",
       "      <td></td>\n",
       "      <td>2015-08-29</td>\n",
       "      <td>2015.0</td>\n",
       "      <td>8.0</td>\n",
       "      <td>29.0</td>\n",
       "      <td></td>\n",
       "      <td></td>\n",
       "    </tr>\n",
       "  </tbody>\n",
       "</table>\n",
       "</div>"
      ],
      "text/plain": [
       "          EventId   EventDate            Location InjurySeverity  \\\n",
       "0  20150901X74304  09/01/2015         Truckee, CA                  \n",
       "1  20150901X92332  08/31/2015         Houston, TX      Non-Fatal   \n",
       "2  20150902X61853  08/30/2015     New Milford, CT                  \n",
       "3  20150901X02521  08/30/2015  New Enterprise, PA                  \n",
       "4  20150831X61356  08/29/2015      MIDLOTHIAN, TX                  \n",
       "\n",
       "  AircraftDamage PurposeOfFlight TotalFatalInjuries TotalSeriousInjuries  \\\n",
       "0                                                                          \n",
       "1    Substantial   Instructional                                           \n",
       "2                                                                          \n",
       "3                                                                          \n",
       "4                                                                          \n",
       "\n",
       "  WeatherCondition BroadPhaseOfFlight       Date    Year  Month   Day  \\\n",
       "0                                     2015-09-01  2015.0    9.0   1.0   \n",
       "1              VMC            LANDING 2015-08-31  2015.0    8.0  31.0   \n",
       "2                                     2015-08-30  2015.0    8.0  30.0   \n",
       "3                                     2015-08-30  2015.0    8.0  30.0   \n",
       "4                                     2015-08-29  2015.0    8.0  29.0   \n",
       "\n",
       "                                           narrative probable_cause  \n",
       "0                                                                    \n",
       "1  On August 31, 2015, about 1230 central dayligh...                 \n",
       "2                                                                    \n",
       "3                                                                    \n",
       "4                                                                    "
      ]
     },
     "execution_count": 7,
     "metadata": {},
     "output_type": "execute_result"
    }
   ],
   "source": [
    "df_xml_json.head(5)"
   ]
  },
  {
   "cell_type": "markdown",
   "metadata": {},
   "source": [
    "\n",
    "2. Natural language processing"
   ]
  },
  {
   "cell_type": "markdown",
   "metadata": {},
   "source": [
    "2.1 Find the most frequent terms in the narrative text"
   ]
  },
  {
   "cell_type": "code",
   "execution_count": 8,
   "metadata": {},
   "outputs": [
    {
     "name": "stdout",
     "output_type": "stream",
     "text": [
      "Top 10 most freqent words:  [['pilot', 87998], ['airplane', 86401], ['accident', 83090], ['aircraft', 81368], ['data', 70419], ['used', 69708], ['NTSB', 69343], ['investigation', 69140], ['support', 68261], ['various', 68078]]\n"
     ]
    }
   ],
   "source": [
    "from nltk.corpus import stopwords\n",
    "stop_words = stopwords.words('english')              # Create a stopword list\n",
    "\n",
    "df_xmljson =pd.read_pickle(\"df_xml_json\")            # Read the merged dataframe\n",
    "\n",
    "Word_freq =df_xmljson['narrative'].str.split(expand=True).stack().value_counts()  #Get word frequency\n",
    "Word_freqlist = Word_freq.reset_index().values.tolist()                           # Change wrod frequency to a list\n",
    "\n",
    "Filtered_words = [i for i in Word_freqlist if i[0].lower() not in stop_words]     # Remove stopword\n",
    "print ('Top 10 most freqent words: ', Filtered_words[0:10])"
   ]
  },
  {
   "cell_type": "markdown",
   "metadata": {},
   "source": [
    "2.2 Find the change of word frequencies over time"
   ]
  },
  {
   "cell_type": "code",
   "execution_count": 9,
   "metadata": {},
   "outputs": [],
   "source": [
    "Year =list(range(2005, 2015))\n",
    "Top5_words =[]\n",
    "for i in Year:\n",
    "    df_year=df_xmljson[df_xmljson['Year']==i]\n",
    "    Word_freq =df_year['narrative'].str.split(expand=True).stack().value_counts()\n",
    "    Word_freqlist = Word_freq.reset_index().values.tolist()\n",
    "    FilteredWords = [i[0] for i in Word_freqlist if i[0].lower() not in stop_words]\n",
    "    Top5_words.append(FilteredWords[0:5])\n",
    "Year_words =dict(zip(Year, Top5_words))"
   ]
  },
  {
   "cell_type": "code",
   "execution_count": 10,
   "metadata": {},
   "outputs": [
    {
     "data": {
      "text/plain": [
       "{2005: ['airplane', 'pilot', 'accident', 'aircraft', 'engine'],\n",
       " 2006: ['airplane', 'pilot', 'accident', 'aircraft', 'engine'],\n",
       " 2007: ['airplane', 'pilot', 'accident', 'aircraft', 'engine'],\n",
       " 2008: ['airplane', 'pilot', 'accident', 'aircraft', 'flight'],\n",
       " 2009: ['airplane', 'pilot', 'accident', 'aircraft', 'engine'],\n",
       " 2010: ['airplane', 'pilot', 'accident', 'engine', 'aircraft'],\n",
       " 2011: ['airplane', 'pilot', 'accident', 'engine', 'data'],\n",
       " 2012: ['airplane', 'pilot', 'accident', 'engine', 'flight'],\n",
       " 2013: ['airplane', 'pilot', 'accident', 'engine', 'flight'],\n",
       " 2014: ['airplane', 'pilot', 'flight', 'accident', 'engine']}"
      ]
     },
     "execution_count": 10,
     "metadata": {},
     "output_type": "execute_result"
    }
   ],
   "source": [
    "Year_words  # Top 5 most frequent words from 2005 to 2014. Most are same with slight changes."
   ]
  },
  {
   "cell_type": "markdown",
   "metadata": {},
   "source": [
    "2.3 Topic modeling------ analysis of narrative text"
   ]
  },
  {
   "cell_type": "code",
   "execution_count": 11,
   "metadata": {},
   "outputs": [],
   "source": [
    "from sklearn.feature_extraction.text import CountVectorizer\n",
    "from sklearn.decomposition import LatentDirichletAllocation\n",
    "\n",
    "\n",
    "df_narrative=df_xmljson.loc[:,['EventId','narrative' ]]\n",
    "df_narrative =df_narrative[df_narrative['narrative' ]!=''] # drop empty row\n",
    "\n",
    "cv = CountVectorizer(max_df=0.95, min_df=2, stop_words='english')\n",
    "dtm = cv.fit_transform(df_narrative['narrative'])"
   ]
  },
  {
   "cell_type": "markdown",
   "metadata": {},
   "source": [
    " 2.3.1 Latent Dirichlet allocation (LDA)"
   ]
  },
  {
   "cell_type": "code",
   "execution_count": 12,
   "metadata": {},
   "outputs": [
    {
     "name": "stdout",
     "output_type": "stream",
     "text": [
      "THE TOP 10 WORDS FOR TOPIC #0\n",
      "['various', 'sources', 'report', 'traveled', 'used', 'investigation', 'accident', 'acft', 'aircraft', 'fuel']\n",
      "\n",
      "\n",
      "THE TOP 10 WORDS FOR TOPIC #1\n",
      "['ntsb', 'data', 'used', 'report', 'landing', 'accident', 'aircraft', 'runway', 'pilot', 'airplane']\n",
      "\n",
      "\n",
      "THE TOP 10 WORDS FOR TOPIC #2\n",
      "['weather', 'obtained', 'conditions', 'feet', 'time', 'accident', 'airport', 'airplane', 'pilot', 'flight']\n",
      "\n",
      "\n",
      "THE TOP 10 WORDS FOR TOPIC #3\n",
      "['power', 'landing', 'aircraft', 'flight', 'examination', 'accident', 'revealed', 'pilot', 'airplane', 'engine']\n",
      "\n",
      "\n"
     ]
    }
   ],
   "source": [
    "\n",
    "LDA = LatentDirichletAllocation(n_components=4,random_state=42)\n",
    "LDA.fit(dtm) #take a few minutes\n",
    "\n",
    "Topic_narrative =[]\n",
    "for index,topic in enumerate(LDA.components_):\n",
    "    print(f'THE TOP 10 WORDS FOR TOPIC #{index}')\n",
    "    print([cv.get_feature_names()[i] for i in topic.argsort()[-10:]])\n",
    "    print('\\n')\n",
    "    topic=[cv.get_feature_names()[i] for i in topic.argsort()[-10:]]\n",
    "    Topic_narrative.append(topic)    \n",
    "\n",
    "topic_results = LDA.transform(dtm)\n",
    "df_narrative['Topic_narrative'] = topic_results.argmax(axis=1) # Combining with Original Data\n",
    "\n",
    "df_topic_narrative=df_narrative.loc[:, ['EventId','Topic_narrative']]\n",
    "\n",
    "df_xmljson_topic=df_xmljson.merge( df_topic_narrative, how='left', on='EventId') # Merge with Original Data\n"
   ]
  },
  {
   "cell_type": "markdown",
   "metadata": {},
   "source": [
    "2.4 Topic modeling------ analysis of probably cause"
   ]
  },
  {
   "cell_type": "code",
   "execution_count": 13,
   "metadata": {},
   "outputs": [
    {
     "name": "stdout",
     "output_type": "stream",
     "text": [
      "THE TOP 10 WORDS FOR TOPIC #0\n",
      "['clearance', 'engine', 'undetermined', 'landing', 'maintain', 'power', 'loss', 'failure', 'terrain', 'pilot']\n",
      "\n",
      "\n",
      "THE TOP 10 WORDS FOR TOPIC #1\n",
      "['resulted', 'factors', 'runway', 'accident', 'decision', 'inadequate', 'failure', 'fuel', 'flight', 'pilot']\n",
      "\n",
      "\n",
      "THE TOP 10 WORDS FOR TOPIC #2\n",
      "['accident', 'airplane', 'factor', 'resulted', 'directional', 'maintain', 'landing', 'control', 'failure', 'pilot']\n",
      "\n",
      "\n",
      "THE TOP 10 WORDS FOR TOPIC #3\n",
      "['improper', 'maintenance', 'gear', 'resulted', 'landing', 'fuel', 'power', 'loss', 'failure', 'engine']\n",
      "\n",
      "\n"
     ]
    }
   ],
   "source": [
    "df_cause=df_xmljson.loc[:,['EventId','probable_cause' ]]\n",
    "df_cause =df_cause[df_cause['probable_cause']!=''] # drop empty row\n",
    "\n",
    "\n",
    "cv = CountVectorizer(max_df=0.95, min_df=2, stop_words='english')\n",
    "dtm = cv.fit_transform(df_cause['probable_cause'])\n",
    "\n",
    "\n",
    "LDA = LatentDirichletAllocation(n_components=4,random_state=42)\n",
    "LDA.fit(dtm)\n",
    "\n",
    "Topic_cause=[]\n",
    "for index,topic in enumerate(LDA.components_):\n",
    "    print(f'THE TOP 10 WORDS FOR TOPIC #{index}')\n",
    "    print([cv.get_feature_names()[i] for i in topic.argsort()[-10:]])\n",
    "    print('\\n')\n",
    "    topic=[cv.get_feature_names()[i] for i in topic.argsort()[-10:]]\n",
    "    Topic_cause.append(topic)\n",
    "    \n",
    "topic_results = LDA.transform(dtm)\n",
    "df_cause['Topic_cause'] = topic_results.argmax(axis=1)\n",
    "\n",
    "df_topic_cause=df_cause.loc[:, ['EventId','Topic_cause']]\n",
    "\n",
    "df_xmljson_topic=df_xmljson_topic.merge( df_topic_cause, how='left', on='EventId')\n",
    "\n",
    "\n",
    "df_xmljson_topic.to_pickle(\"df_xmljson_topic\")  \n"
   ]
  },
  {
   "cell_type": "markdown",
   "metadata": {},
   "source": [
    "\n",
    "3. Exploratory data analysis"
   ]
  },
  {
   "cell_type": "code",
   "execution_count": 14,
   "metadata": {},
   "outputs": [],
   "source": [
    "df_aviation =pd.read_pickle('df_xmljson_topic')\n",
    "\n",
    "Year_event =df_aviation['Year'].value_counts()\n",
    "Month_event =df_aviation['Month'].value_counts()\n",
    "Day_event =df_aviation['Day'].value_counts()\n",
    "\n",
    "Location =df_aviation['Location'].value_counts()\n",
    "InjurySeverity =df_aviation['InjurySeverity'].value_counts()\n",
    "AircraftDamage =df_aviation['AircraftDamage'].value_counts()\n",
    "PurposeOfFlight =df_aviation['PurposeOfFlight'].value_counts()\n",
    "\n",
    "TotalFatalInjuries =df_aviation['TotalFatalInjuries'].value_counts()\n",
    "TotalSeriousInjuries =df_aviation['TotalSeriousInjuries'].value_counts()\n",
    "WeatherCondition =df_aviation['WeatherCondition'].value_counts()\n",
    "BroadPhaseOfFlight =df_aviation['BroadPhaseOfFlight'].value_counts()\n",
    "Topic_narrative =df_aviation['Topic_narrative'].value_counts()\n",
    "\n",
    "Topic_cause =df_aviation['Topic_cause'].value_counts()"
   ]
  },
  {
   "cell_type": "code",
   "execution_count": 15,
   "metadata": {},
   "outputs": [
    {
     "data": {
      "text/plain": [
       "1982.0    3547\n",
       "1983.0    3513\n",
       "1984.0    3406\n",
       "1985.0    3053\n",
       "1986.0    2832\n",
       "1987.0    2773\n",
       "1988.0    2685\n",
       "1989.0    2502\n",
       "1990.0    2480\n",
       "1991.0    2420\n",
       "1992.0    2327\n",
       "1993.0    2285\n",
       "1995.0    2278\n",
       "1994.0    2229\n",
       "1998.0    2196\n",
       "2000.0    2183\n",
       "1999.0    2173\n",
       "1996.0    2150\n",
       "1997.0    2121\n",
       "2003.0    2063\n",
       "2001.0    2032\n",
       "2002.0    2001\n",
       "2005.0    2001\n",
       "2007.0    1984\n",
       "2004.0    1932\n",
       "2008.0    1893\n",
       "2011.0    1844\n",
       "2012.0    1831\n",
       "2006.0    1825\n",
       "2009.0    1785\n",
       "2010.0    1783\n",
       "2013.0    1531\n",
       "2014.0    1499\n",
       "2015.0     967\n",
       "1981.0       1\n",
       "1979.0       1\n",
       "1977.0       1\n",
       "1974.0       1\n",
       "1962.0       1\n",
       "1948.0       1\n",
       "Name: Year, dtype: int64"
      ]
     },
     "execution_count": 15,
     "metadata": {},
     "output_type": "execute_result"
    }
   ],
   "source": [
    "Year_event   # Print the number of event in each year"
   ]
  },
  {
   "cell_type": "code",
   "execution_count": 16,
   "metadata": {},
   "outputs": [
    {
     "data": {
      "text/plain": [
       "7.0     9190\n",
       "8.0     8623\n",
       "6.0     8229\n",
       "5.0     7371\n",
       "9.0     7006\n",
       "4.0     6337\n",
       "10.0    5805\n",
       "3.0     5790\n",
       "11.0    4651\n",
       "2.0     4525\n",
       "12.0    4305\n",
       "1.0     4298\n",
       "Name: Month, dtype: int64"
      ]
     },
     "execution_count": 16,
     "metadata": {},
     "output_type": "execute_result"
    }
   ],
   "source": [
    "Month_event  # Print the number of event in each year"
   ]
  },
  {
   "cell_type": "code",
   "execution_count": 17,
   "metadata": {},
   "outputs": [
    {
     "data": {
      "text/plain": [
       "ANCHORAGE, AK         361\n",
       "MIAMI, FL             182\n",
       "ALBUQUERQUE, NM       159\n",
       "CHICAGO, IL           155\n",
       "HOUSTON, TX           147\n",
       "                     ... \n",
       "Altoona, WI             1\n",
       "BROTHERS, OR            1\n",
       "GRAND JUNCTION, TN      1\n",
       "ANACAPA ISLAND, CA      1\n",
       "ARDARA, PA              1\n",
       "Name: Location, Length: 24702, dtype: int64"
      ]
     },
     "execution_count": 17,
     "metadata": {},
     "output_type": "execute_result"
    }
   ],
   "source": [
    "Location  # Print the number of event in each year"
   ]
  },
  {
   "cell_type": "code",
   "execution_count": 18,
   "metadata": {},
   "outputs": [
    {
     "data": {
      "text/plain": [
       "Non-Fatal     57871\n",
       "Fatal(1)       7499\n",
       "Fatal(2)       4398\n",
       "Incident       2892\n",
       "Fatal(3)       1355\n",
       "              ...  \n",
       "Fatal(256)        1\n",
       "Fatal(143)        1\n",
       "Fatal(26)         1\n",
       "Fatal(55)         1\n",
       "Fatal(156)        1\n",
       "Name: InjurySeverity, Length: 120, dtype: int64"
      ]
     },
     "execution_count": 18,
     "metadata": {},
     "output_type": "execute_result"
    }
   ],
   "source": [
    "InjurySeverity # Print the number of event in each injury severity catagory"
   ]
  },
  {
   "cell_type": "code",
   "execution_count": 19,
   "metadata": {},
   "outputs": [
    {
     "data": {
      "text/plain": [
       "Personal                     42910\n",
       "Instructional                 9098\n",
       "Unknown                       6560\n",
       "Aerial Application            4259\n",
       "Business                      3784\n",
       "                              3469\n",
       "Positioning                   1470\n",
       "Other Work Use                1078\n",
       "Ferry                          762\n",
       "Public Use                     697\n",
       "Aerial Observation             638\n",
       "Executive/Corporate            497\n",
       "Flight Test                    292\n",
       "Air Race/Show                  119\n",
       "Skydiving                      104\n",
       "Public Aircraft - Federal       83\n",
       "Banner Tow                      77\n",
       "External Load                   75\n",
       "Public Aircraft - State         49\n",
       "Public Aircraft - Local         48\n",
       "Glider Tow                      37\n",
       "Fire Fighting                   19\n",
       "Air Drop                         8\n",
       "Name: PurposeOfFlight, dtype: int64"
      ]
     },
     "execution_count": 19,
     "metadata": {},
     "output_type": "execute_result"
    }
   ],
   "source": [
    "PurposeOfFlight # Print the number of event in each Purpose of Flight catagory"
   ]
  },
  {
   "cell_type": "markdown",
   "metadata": {},
   "source": [
    "\n",
    "4. Data visualization"
   ]
  },
  {
   "cell_type": "code",
   "execution_count": 20,
   "metadata": {},
   "outputs": [],
   "source": [
    "import matplotlib.pyplot as plt\n",
    "%matplotlib inline"
   ]
  },
  {
   "cell_type": "code",
   "execution_count": 21,
   "metadata": {},
   "outputs": [
    {
     "data": {
      "image/png": "[encoded data removed]",
      "text/plain": [
       "<Figure size 1440x1280 with 6 Axes>"
      ]
     },
     "metadata": {},
     "output_type": "display_data"
    }
   ],
   "source": [
    "fig=plt.figure(figsize=(18, 16), dpi= 80, facecolor='w', edgecolor='k')\n",
    "\n",
    "plt.subplot(2,3,1)  # Plot the percentage of 4 locations where accident were most occurred\n",
    "prob = df_aviation['Location'].value_counts(normalize=True)\n",
    "threshold = 0.002\n",
    "mask = prob > threshold\n",
    "prob = prob.loc[mask]\n",
    "prob.plot(kind='bar')\n",
    "plt.xticks(rotation=27)\n",
    "plt.title('Location')\n",
    "plt.ylabel('Accident/incident(%)')\n",
    "\n",
    "plt.subplot(2,3,2) #Plot the percentage of top 7 categories of total fatal injuries\n",
    "prob = df_aviation['TotalFatalInjuries'].value_counts(normalize=True)\n",
    "threshold = 0.01\n",
    "mask = prob > threshold\n",
    "tail_prob = prob.loc[~mask].sum()\n",
    "prob = prob.loc[mask]\n",
    "prob['Others'] = tail_prob\n",
    "prob1=prob[2:7]\n",
    "prob1['0']=prob[0]\n",
    "prob1['Unknown']=prob[1]\n",
    "prob=prob1.sort_values(ascending=False)\n",
    "prob.plot(kind='bar')\n",
    "plt.xticks(rotation=25)\n",
    "plt.title('Total fatal injuries')\n",
    "\n",
    "\n",
    "plt.subplot(2,3,3) #Plot the percentage of top 5 categories of injury severity\n",
    "prob = df_aviation['InjurySeverity'].value_counts(normalize=True)\n",
    "threshold = 0.03\n",
    "mask = prob > threshold\n",
    "tail_prob = prob.loc[~mask].sum()\n",
    "prob = prob.loc[mask]\n",
    "prob['Other'] = tail_prob\n",
    "prob.plot(kind='bar')\n",
    "plt.xticks(rotation=25)\n",
    "plt.title('Injury severity')\n",
    "\n",
    "\n",
    "\n",
    "plt.subplot(2,3,4) #Plot the percentage of top 5 categories of purpose of flight\n",
    "prob = df_aviation['PurposeOfFlight'].value_counts(normalize=True)\n",
    "threshold = 0.05\n",
    "mask = prob > threshold\n",
    "tail_prob = prob.loc[~mask].sum()\n",
    "prob = prob.loc[mask]\n",
    "prob['Others'] = tail_prob\n",
    "prob.plot(kind='bar')\n",
    "plt.xticks(rotation=27)\n",
    "plt.title('Purpose of flight')\n",
    "plt.ylabel('Accident/incident(%)')\n",
    "\n",
    "\n",
    "plt.subplot(2,3,5) #Plot the percentage of top 3 categories of weather condition\n",
    "prob = df_aviation['WeatherCondition'].value_counts(normalize=True)\n",
    "prob1=prob[0:2]\n",
    "prob1['Unknown']=prob[2]\n",
    "prob1['UNK']=prob[3]\n",
    "prob=prob1\n",
    "prob.plot(kind='bar')\n",
    "plt.xticks(rotation=25)\n",
    "plt.title('Weather condition')\n",
    "\n",
    "plt.subplot(2,3,6) #Plot the percentage of top 5 categories of broad phage of flight\n",
    "prob = df_aviation['BroadPhaseOfFlight'].value_counts(normalize=True)\n",
    "threshold = 0.1\n",
    "mask = prob > threshold\n",
    "tail_prob = prob.loc[~mask].sum()\n",
    "prob = prob.loc[mask]\n",
    "prob['Others'] = tail_prob\n",
    "prob.plot(kind='bar')\n",
    "plt.xticks(rotation=27)\n",
    "plt.title('Broad phase of flight')\n",
    "plt.subplots_adjust(hspace=0.6)\n",
    "plt.show()\n",
    "\n"
   ]
  },
  {
   "cell_type": "code",
   "execution_count": null,
   "metadata": {},
   "outputs": [],
   "source": []
  }
 ],
 "metadata": {
  "kernelspec": {
   "display_name": "Python 3",
   "language": "python",
   "name": "python3"
  },
  "language_info": {
   "codemirror_mode": {
    "name": "ipython",
    "version": 3
   },
   "file_extension": ".py",
   "mimetype": "text/x-python",
   "name": "python",
   "nbconvert_exporter": "python",
   "pygments_lexer": "ipython3",
   "version": "3.7.4"
  }
 },
 "nbformat": 4,
 "nbformat_minor": 2
}
